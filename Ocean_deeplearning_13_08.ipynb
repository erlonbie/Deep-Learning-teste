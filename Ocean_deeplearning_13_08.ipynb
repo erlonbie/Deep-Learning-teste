{
  "nbformat": 4,
  "nbformat_minor": 0,
  "metadata": {
    "colab": {
      "name": "Ocean_deeplearning_13-08.ipynb",
      "provenance": [],
      "authorship_tag": "ABX9TyPIPACc9D8OGXhTVbYf+h0P",
      "include_colab_link": true
    },
    "kernelspec": {
      "name": "python3",
      "display_name": "Python 3"
    },
    "language_info": {
      "name": "python"
    }
  },
  "cells": [
    {
      "cell_type": "markdown",
      "metadata": {
        "id": "view-in-github",
        "colab_type": "text"
      },
      "source": [
        "<a href=\"https://colab.research.google.com/github/erlonbie/Deep-Learning-teste/blob/main/Ocean_deeplearning_13_08.ipynb\" target=\"_parent\"><img src=\"https://colab.research.google.com/assets/colab-badge.svg\" alt=\"Open In Colab\"/></a>"
      ]
    },
    {
      "cell_type": "code",
      "metadata": {
        "id": "3ZN6KQXZiNWV"
      },
      "source": [
        "#importando as bibliotecas\n",
        "\n",
        "from tensorflow import keras # Importa a biblioteca Keras\n",
        "from keras.datasets import mnist # Base de Dados MNIST\n",
        "from tensorflow.python.keras import Sequential # Arquitetura da nossa rede neural\n",
        "from tensorflow.python.keras.layers import Dense, Dropout # Neurônio (base da rede) e Regularizador (evita overfitting)\n",
        "from tensorflow.compat.v1.keras.optimizers import RMSprop # Otimizador (back propagation)"
      ],
      "execution_count": 1,
      "outputs": []
    },
    {
      "cell_type": "markdown",
      "metadata": {
        "id": "jsNTvnywnJMy"
      },
      "source": [
        "Carregar os dados"
      ]
    },
    {
      "cell_type": "code",
      "metadata": {
        "colab": {
          "base_uri": "https://localhost:8080/"
        },
        "id": "hC3iM1R5mhcT",
        "outputId": "e4642e2e-fef2-4534-e5ea-e8bd54518edd"
      },
      "source": [
        "(x_treino, y_treino), (x_teste, y_teste) = mnist.load_data()"
      ],
      "execution_count": 2,
      "outputs": [
        {
          "output_type": "stream",
          "text": [
            "Downloading data from https://storage.googleapis.com/tensorflow/tf-keras-datasets/mnist.npz\n",
            "11493376/11490434 [==============================] - 0s 0us/step\n",
            "11501568/11490434 [==============================] - 0s 0us/step\n"
          ],
          "name": "stdout"
        }
      ]
    },
    {
      "cell_type": "markdown",
      "metadata": {
        "id": "L0yLtcNVpke9"
      },
      "source": [
        "Analisar Dataset"
      ]
    },
    {
      "cell_type": "code",
      "metadata": {
        "id": "iKM5Gfpynic4"
      },
      "source": [
        ""
      ],
      "execution_count": null,
      "outputs": []
    }
  ]
}