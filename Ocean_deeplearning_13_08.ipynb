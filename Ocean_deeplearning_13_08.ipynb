{
  "nbformat": 4,
  "nbformat_minor": 0,
  "metadata": {
    "colab": {
      "name": "Ocean_deeplearning_13-08.ipynb",
      "provenance": [],
      "authorship_tag": "ABX9TyOX2QZ4eqZDTiptvWKZ3iXI",
      "include_colab_link": true
    },
    "kernelspec": {
      "name": "python3",
      "display_name": "Python 3"
    },
    "language_info": {
      "name": "python"
    }
  },
  "cells": [
    {
      "cell_type": "markdown",
      "metadata": {
        "id": "view-in-github",
        "colab_type": "text"
      },
      "source": [
        "<a href=\"https://colab.research.google.com/github/erlonbie/Deep-Learning-teste/blob/main/Ocean_deeplearning_13_08.ipynb\" target=\"_parent\"><img src=\"https://colab.research.google.com/assets/colab-badge.svg\" alt=\"Open In Colab\"/></a>"
      ]
    },
    {
      "cell_type": "code",
      "metadata": {
        "colab": {
          "base_uri": "https://localhost:8080/"
        },
        "id": "t9AXJAeTdTiP",
        "outputId": "3723e81e-b56f-4705-97bf-95951d9ad3ab"
      },
      "source": [
        "print(\"Hello, world\")\n",
        "\n",
        "#Declarar variável\n",
        "numero = 20\n",
        "print(numero)\n",
        "\n",
        "#Lista\n",
        "lista = [10,20,30]\n",
        "print(lista, type(lista), type(lista[2]))\n",
        "\n",
        "#Quantidade\n",
        "print(len(lista))\n",
        "\n",
        "#Tupla\n",
        "tupla = (5, 6, 7)\n",
        "print(tupla, type(tupla))\n",
        "\n",
        "tupla2 = 5, 6, 7\n",
        "print(tupla2, type(tupla2))\n",
        "\n",
        "elemento = tupla[0]\n",
        "print(elemento)"
      ],
      "execution_count": 10,
      "outputs": [
        {
          "output_type": "stream",
          "text": [
            "Hello, world\n",
            "20\n",
            "[10, 20, 30] <class 'list'> <class 'int'>\n",
            "3\n",
            "(5, 6, 7) <class 'tuple'>\n",
            "(5, 6, 7) <class 'tuple'>\n",
            "5\n"
          ],
          "name": "stdout"
        }
      ]
    },
    {
      "cell_type": "code",
      "metadata": {
        "id": "3ZN6KQXZiNWV"
      },
      "source": [
        ""
      ],
      "execution_count": null,
      "outputs": []
    }
  ]
}